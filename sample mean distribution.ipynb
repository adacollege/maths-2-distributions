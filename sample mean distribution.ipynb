{
 "cells": [
  {
   "cell_type": "code",
   "execution_count": 5,
   "metadata": {},
   "outputs": [],
   "source": [
    "from scipy.stats import norm\n",
    "import pandas as pd"
   ]
  },
  {
   "cell_type": "markdown",
   "metadata": {},
   "source": [
    "Suppose we have some population of data which is normally distributed:$$X\\sim\\mathcal{N}\\big(\\mu_X,\\sigma_X^2\\big)$$ We'll assume $\\mu = 0$, $\\sigma = 1$ for now. First lets generate a sample and see what the mean ($\\bar{X}$) and standard deviation of this sample are."
   ]
  },
  {
   "cell_type": "code",
   "execution_count": 36,
   "metadata": {},
   "outputs": [
    {
     "data": {
      "text/plain": [
       "array([ 1.37457538, -0.95915067,  0.41483445, -0.68160243,  0.00974464,\n",
       "        0.82182143,  1.19566589,  0.22745675,  2.85868725,  0.81424787,\n",
       "       -0.62327616, -0.06773807, -0.13449651, -0.10813199, -0.38544135,\n",
       "       -0.5144313 , -0.31173378, -0.16068859, -2.45238424,  0.21964052,\n",
       "       -0.16221049,  0.24351369, -1.03898887, -0.09225357, -0.00738098,\n",
       "       -0.4561769 , -0.32752663,  0.52924205, -0.33320604,  0.25794075])"
      ]
     },
     "execution_count": 36,
     "metadata": {},
     "output_type": "execute_result"
    }
   ],
   "source": [
    "mu = 0\n",
    "sigma = 1\n",
    "sample = norm.rvs(0,1,30)\n",
    "sample"
   ]
  },
  {
   "cell_type": "code",
   "execution_count": 38,
   "metadata": {},
   "outputs": [
    {
     "data": {
      "text/plain": [
       "count    30.000000\n",
       "mean      0.005018\n",
       "std       0.898379\n",
       "min      -2.452384\n",
       "25%      -0.372383\n",
       "50%      -0.100193\n",
       "75%       0.254334\n",
       "max       2.858687\n",
       "dtype: float64"
      ]
     },
     "execution_count": 38,
     "metadata": {},
     "output_type": "execute_result"
    }
   ],
   "source": [
    "sample_series = pd.Series(sample)\n",
    "sample_series.describe()"
   ]
  },
  {
   "cell_type": "markdown",
   "metadata": {},
   "source": [
    "Unsurprisingly the sample mean, $\\bar{X}$ is close to our population mean of $\\mu$. How far out was your sample mean compared to the real mean? How widely dispersed were all the estimates around the room?"
   ]
  },
  {
   "cell_type": "markdown",
   "metadata": {},
   "source": [
    "\n",
    "We could take lots of different samples of the same size just like this and calculate $\\bar{X}$ for each one. How would the variable $\\bar{X}$ be distributed? What standard deviation, $\\sigma_\\bar{X}$ and mean, $\\mu_\\bar{X}$ would it have? What shape would the distribution be? Normal or otherwise? Use the structure below to investigate."
   ]
  },
  {
   "cell_type": "code",
   "execution_count": 39,
   "metadata": {},
   "outputs": [],
   "source": [
    "#function to generate a sample of size n and return the mean of the sample"
   ]
  },
  {
   "cell_type": "code",
   "execution_count": 31,
   "metadata": {},
   "outputs": [],
   "source": [
    "#create a list of sample means and add values using the function above"
   ]
  },
  {
   "cell_type": "code",
   "execution_count": 32,
   "metadata": {},
   "outputs": [],
   "source": [
    "#turn list of sample means into pandas series and explore mean/sd/shape"
   ]
  }
 ],
 "metadata": {
  "hide_input": false,
  "kernelspec": {
   "display_name": "Python 3",
   "language": "python",
   "name": "python3"
  },
  "language_info": {
   "codemirror_mode": {
    "name": "ipython",
    "version": 3
   },
   "file_extension": ".py",
   "mimetype": "text/x-python",
   "name": "python",
   "nbconvert_exporter": "python",
   "pygments_lexer": "ipython3",
   "version": "3.6.8"
  }
 },
 "nbformat": 4,
 "nbformat_minor": 2
}
