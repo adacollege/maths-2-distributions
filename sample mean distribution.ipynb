{
 "cells": [
  {
   "cell_type": "code",
   "execution_count": null,
   "metadata": {
    "slideshow": {
     "slide_type": "skip"
    }
   },
   "outputs": [],
   "source": [
    "from scipy.stats import norm\n",
    "import pandas as pd"
   ]
  },
  {
   "cell_type": "markdown",
   "metadata": {
    "slideshow": {
     "slide_type": "subslide"
    }
   },
   "source": [
    "Suppose we have some population of data which is normally distributed:$$X\\sim\\mathcal{N}\\big(\\mu,\\sigma^2\\big)$$ We'll assume $\\mu = 0$, $\\sigma = 1$ for now.\n",
    "\n",
    "First lets generate a sample and see what the mean ($\\bar{X}$) and standard deviation of this sample are."
   ]
  },
  {
   "cell_type": "code",
   "execution_count": null,
   "metadata": {
    "slideshow": {
     "slide_type": "subslide"
    }
   },
   "outputs": [],
   "source": [
    "mu = 0     # the population mean\n",
    "sigma = 1  # the population standard deviation\n",
    "n = 100    # the sample size\n",
    "sample = norm.rvs(mu,sigma,n)\n",
    "sample.mean()"
   ]
  },
  {
   "cell_type": "markdown",
   "metadata": {
    "slideshow": {
     "slide_type": "subslide"
    }
   },
   "source": [
    "Unsurprisingly the sample mean, $\\bar{x}$ is close to our population mean of $\\mu$.\n",
    "\n",
    "How far out was your sample mean compared to the real mean?\n",
    "\n",
    "How widely dispersed were all the estimates around the room?"
   ]
  },
  {
   "cell_type": "markdown",
   "metadata": {
    "slideshow": {
     "slide_type": "subslide"
    }
   },
   "source": [
    "We could take lots of different samples of the same size just like this and calculate $\\bar{x}$ for each one.\n",
    "\n",
    "The distribution of all these sample means, we call $\\bar{X}$.\n",
    "\n",
    "What questions do you have about $\\bar{X}$?"
   ]
  },
  {
   "cell_type": "markdown",
   "metadata": {
    "slideshow": {
     "slide_type": "fragment"
    }
   },
   "source": [
    "What's the shape of this distribution?\n",
    "What standard deviation and mean would it have?"
   ]
  },
  {
   "cell_type": "markdown",
   "metadata": {
    "slideshow": {
     "slide_type": "subslide"
    }
   },
   "source": [
    "### Task\n",
    "\n",
    "Create a function `sample_mean` which generates a sample of size `n` (default 100) and returns its mean."
   ]
  },
  {
   "cell_type": "code",
   "execution_count": null,
   "metadata": {
    "slideshow": {
     "slide_type": "-"
    }
   },
   "outputs": [],
   "source": [
    "#function to generate a sample of size n and return the mean of the sample\n",
    "def sample_mean(n=100):\n",
    "    return 0"
   ]
  },
  {
   "cell_type": "markdown",
   "metadata": {
    "slideshow": {
     "slide_type": "subslide"
    }
   },
   "source": [
    "### Task\n",
    "\n",
    "Collect the means of 1000 samples into a Python list.\n",
    "\n",
    "Use `pd.Series` to convert that list into a `pandas` series."
   ]
  },
  {
   "cell_type": "code",
   "execution_count": null,
   "metadata": {
    "slideshow": {
     "slide_type": "-"
    }
   },
   "outputs": [],
   "source": [
    "#create a series of 1000 sample means"
   ]
  },
  {
   "cell_type": "markdown",
   "metadata": {
    "slideshow": {
     "slide_type": "subslide"
    }
   },
   "source": [
    "### Task\n",
    "\n",
    "Investigate the distribution of the sample means, using `.mean()`, `.std()` and `.hist()`\n",
    "\n",
    "What do you notice?\n",
    "\n",
    "How does the distribution of the sample means compare to the original distribution?\n",
    "\n",
    "Can you generalise?"
   ]
  },
  {
   "cell_type": "code",
   "execution_count": null,
   "metadata": {
    "slideshow": {
     "slide_type": "-"
    }
   },
   "outputs": [],
   "source": []
  }
 ],
 "metadata": {
  "celltoolbar": "Slideshow",
  "hide_input": false,
  "kernelspec": {
   "display_name": "Python 3",
   "language": "python",
   "name": "python3"
  },
  "language_info": {
   "codemirror_mode": {
    "name": "ipython",
    "version": 3
   },
   "file_extension": ".py",
   "mimetype": "text/x-python",
   "name": "python",
   "nbconvert_exporter": "python",
   "pygments_lexer": "ipython3",
   "version": "3.6.8"
  }
 },
 "nbformat": 4,
 "nbformat_minor": 2
}
